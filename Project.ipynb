{
 "cells": [
  {
   "cell_type": "markdown",
   "metadata": {},
   "source": [
    "\n",
    "# Programming for Data Analysis Assignment 2018"
   ]
  },
  {
   "cell_type": "markdown",
   "metadata": {},
   "source": [
    "This notebook revolves around the `numpy.random` package for Python and will touch on the following topics: \n",
    "\n",
    "1. Overall purpose of the package\n",
    "2. Use of the “Simple random data” and “Permutations” functions\n",
    "3. Use and purpose of “Distributions” function, as exemplified by  \n",
    "    3.1 Univorm Distribution  \n",
    "    3.2 Normal Distribution  \n",
    "    3.3 Binomial Distribution  \n",
    "    3.4 Poisson Distribution  \n",
    "    3.5 Exponential Distribution  \n",
    "    3.6 Triangular Distribution  \n",
    "4. Use of seeds in generating pseudorandom numbers\n"
   ]
  },
  {
   "cell_type": "code",
   "execution_count": 27,
   "metadata": {},
   "outputs": [
    {
     "name": "stdout",
     "output_type": "stream",
     "text": [
      "Thank you!\n"
     ]
    }
   ],
   "source": [
    "#please run this to import the necessary packages for this notebook to keep the code concise\n",
    "\n",
    "import numpy as np\n",
    "import matplotlib.pyplot as plt\n",
    "import seaborn as sb\n",
    "\n",
    "print(\"Thank you!\")\n"
   ]
  },
  {
   "cell_type": "markdown",
   "metadata": {},
   "source": [
    "## 1. Overall purpose of the package."
   ]
  },
  {
   "cell_type": "markdown",
   "metadata": {},
   "source": [
    "**NumPy** is a core package of the Python-based ecosystem of open-source software **SciPy**. NumPy is a library that enables users to work efficiently with arrays by providing handy features to define arrays and in-built fast math functions that operate on the array. *[1]* In this notebook, we will have a closer look at the **numpy.random** package of NumPy, which allows users to generate pseudorandom numbers.\n",
    "\n",
    "Random numbers play an important role in computer science. They are needed for simulations and useful for testing applications and statistics. Imagine wanting to develop a game - how is the program going to determine the roll of the dice or how to shuffle cards? \n",
    "\n",
    "It has to be kept in mind that despite its name, `numpy.random` cannot generate truly random numbers, but pseudorandom numbers. Ronald T. Kneusel reminds the reader that John von Neumann had already established that \"there is no such thing as a random number - there are only methods to produce random numbers\" *[2, p.12]* and offers a definition: \n",
    "\n",
    "> A pseudorandom sequence is a deterministically generated sequence of numbers that is indistinguishable from a true random sequence of numbers *[2, p.11]*\n",
    "\n",
    "The official documentation [official documentation of numpy.random](https://docs.scipy.org/doc/numpy-1.14.0/reference/routines.random.html) outlines the different commands, what they do and how to use them. For the purpose of this assignment, I will provide illustrations of these commands."
   ]
  },
  {
   "cell_type": "markdown",
   "metadata": {},
   "source": [
    "### Resources:\n",
    "\n",
    "\n",
    "    [1] https://wiki.python.org/moin/NumPy\n",
    "    [2] Random Numbers and Computers, von Ronald T. Kneusel, Springer, 2018"
   ]
  },
  {
   "cell_type": "markdown",
   "metadata": {},
   "source": [
    "## 2. Use of the “Simple random data” and “Permutations” functions."
   ]
  },
  {
   "cell_type": "markdown",
   "metadata": {},
   "source": [
    "As can be seen in the official documentation, `numpy.random` offers several ways to generate \"simple random data\" as well as \"permutatiions\". \n",
    "\"Simple random data\" allows the user to generate random values, samples, floats etc. whereas \"permutations\" offers ways to randomly change the sequence."
   ]
  },
  {
   "cell_type": "markdown",
   "metadata": {},
   "source": [
    "These functions work as follows"
   ]
  },
  {
   "cell_type": "markdown",
   "metadata": {},
   "source": [
    "`rand(d0, d1, …, dn)` - returns values in a given shape according to the inputs in d0, d1... and draws from a uniform distribution over the half-open interval [0, 1)"
   ]
  },
  {
   "cell_type": "markdown",
   "metadata": {},
   "source": [
    "A half-open interval means that one end of the interval in included, while the other endpoint is not. In this case, 0 is included, 1 isn't. [1]"
   ]
  },
  {
   "cell_type": "code",
   "execution_count": 3,
   "metadata": {},
   "outputs": [
    {
     "data": {
      "text/plain": [
       "array([[0.96110099, 0.16872791],\n",
       "       [0.69592928, 0.33200407],\n",
       "       [0.33167186, 0.06672931]])"
      ]
     },
     "execution_count": 3,
     "metadata": {},
     "output_type": "execute_result"
    }
   ],
   "source": [
    "np.random.rand(3,2) # will return values greater than or equal to 0 but lower than 1 in an array of floats in 3 rows, 2 values"
   ]
  },
  {
   "cell_type": "markdown",
   "metadata": {},
   "source": [
    "`randn(d0, d1, …, dn)` - Return a sample (or samples) from the “standard normal” distribution with random floats sampled from a univariate “normal” (Gaussian) distribution of mean 0 and variance 1. As the mean is 0, this will also include negative numbers and stretch above 1."
   ]
  },
  {
   "cell_type": "code",
   "execution_count": 4,
   "metadata": {},
   "outputs": [
    {
     "data": {
      "text/plain": [
       "array([[ 0.42857927, -2.91682511],\n",
       "       [-1.56629964, -1.24050735],\n",
       "       [ 2.6735793 ,  1.55954776]])"
      ]
     },
     "execution_count": 4,
     "metadata": {},
     "output_type": "execute_result"
    }
   ],
   "source": [
    "np.random.randn(3,2)"
   ]
  },
  {
   "cell_type": "markdown",
   "metadata": {},
   "source": [
    "While I will get into more details on distributions in the next chapter, the following histograms of a larger sample size of these functions shows how different the outputs are, not only in the range of floats returned but also in how they are distributed."
   ]
  },
  {
   "cell_type": "code",
   "execution_count": 33,
   "metadata": {},
   "outputs": [
    {
     "data": {
      "image/png": "[encoded data removed]",
      "text/plain": [
       "<Figure size 432x288 with 1 Axes>"
      ]
     },
     "metadata": {
      "needs_background": "light"
     },
     "output_type": "display_data"
    },
    {
     "data": {
      "image/png": "[encoded data removed]",
      "text/plain": [
       "<Figure size 432x288 with 1 Axes>"
      ]
     },
     "metadata": {
      "needs_background": "light"
     },
     "output_type": "display_data"
    }
   ],
   "source": [
    "plt.hist(np.random.rand(1000))\n",
    "plt.title(\"Random sample from a uniform distribution\")\n",
    "plt.show()\n",
    "plt.hist(np.random.randn(1000))\n",
    "plt.title(\"Random sample from a normal distribution\")\n",
    "plt.show()"
   ]
  },
  {
   "cell_type": "markdown",
   "metadata": {},
   "source": [
    "`randint(low[, high, size, dtype])` - draw random integers  low (inclusive) to high (exclusive), set the size of the output array you want and add a dtype if desired."
   ]
  },
  {
   "cell_type": "code",
   "execution_count": 6,
   "metadata": {},
   "outputs": [
    {
     "name": "stdout",
     "output_type": "stream",
     "text": [
      "[5 1 2 9 3 1 5 1 2]\n"
     ]
    }
   ],
   "source": [
    "x = np.random.randint(1,10,9)\n",
    "#requested numpy.random to return an array of 9 random integers from 1 (inclusive) to 10 (exclusive) and store it in x\n",
    "print(x)\n",
    "#show the created array"
   ]
  },
  {
   "cell_type": "markdown",
   "metadata": {},
   "source": [
    "`choice(a[, size, replace, p])` - is another useful random function that I wanted to touch on, because it works slightly differently. It will choose a random choice from a given array as illustrated below. replace can be set to true or false and will determine whether a sample is returned back into the pool to be chosen again or can only be chosen once [2] In p the probability of each item in the array to be chosen can be set (ensure they add up to 1), if left blank, it will assume a uniform distribution."
   ]
  },
  {
   "cell_type": "code",
   "execution_count": 7,
   "metadata": {},
   "outputs": [
    {
     "name": "stdout",
     "output_type": "stream",
     "text": [
      "Solution to problems: ['money']\n"
     ]
    }
   ],
   "source": [
    "solution = np.random.choice([\"love\", \"money\", \"chocolate\", \"coffee\"], 1, replace = False)\n",
    "print(\"Solution to problems:\", solution)"
   ]
  },
  {
   "cell_type": "markdown",
   "metadata": {},
   "source": [
    "By adding the p-value I can favor one choice over another, I have increased the sample size to visualize this functionality better and also turned on the replacement, as I want options to be able to be chosen over and over:"
   ]
  },
  {
   "cell_type": "code",
   "execution_count": 34,
   "metadata": {},
   "outputs": [
    {
     "name": "stdout",
     "output_type": "stream",
     "text": [
      "Solution to problems: ['coffee' 'chocolate' 'love' 'chocolate' 'love' 'coffee' 'coffee' 'love'\n",
      " 'money' 'coffee' 'coffee' 'chocolate' 'love' 'money' 'chocolate' 'coffee'\n",
      " 'coffee' 'coffee' 'coffee' 'coffee']\n"
     ]
    },
    {
     "data": {
      "text/plain": [
       "(array([10.,  0.,  0.,  4.,  0.,  0.,  4.,  0.,  0.,  2.]),\n",
       " array([0. , 0.3, 0.6, 0.9, 1.2, 1.5, 1.8, 2.1, 2.4, 2.7, 3. ]),\n",
       " <a list of 10 Patch objects>)"
      ]
     },
     "execution_count": 34,
     "metadata": {},
     "output_type": "execute_result"
    },
    {
     "data": {
      "image/png": "[encoded data removed]",
      "text/plain": [
       "<Figure size 432x288 with 1 Axes>"
      ]
     },
     "metadata": {
      "needs_background": "light"
     },
     "output_type": "display_data"
    }
   ],
   "source": [
    "solution = np.random.choice([\"love\", \"money\", \"chocolate\", \"coffee\"], 20, p = [0.1, 0.1, 0.1, 0.7])\n",
    "print(\"Solution to problems:\", solution)\n",
    "\n",
    "plt.title(\"numpy.random.choice example\")\n",
    "plt.hist(solution)"
   ]
  },
  {
   "cell_type": "markdown",
   "metadata": {},
   "source": [
    "### Permutations"
   ]
  },
  {
   "cell_type": "markdown",
   "metadata": {},
   "source": [
    "Similar to choice, permutations work on an input rather than generating values. Numpy.random gives two options: `.permutation(x)` and `.shuffle(x)`. The documentation reads, that shuffle shuffles the contents of a list in-place. It can be seen below, that permutation permutes the order for the instance in which it is used, while the actual list stays unaffected. Shuffle however, does not immediately print the results ('None') but instead shuffles the variable permanently."
   ]
  },
  {
   "cell_type": "code",
   "execution_count": 20,
   "metadata": {},
   "outputs": [
    {
     "name": "stdout",
     "output_type": "stream",
     "text": [
      "[8 6 2 4 3 9 7 5 1]\n",
      "[1, 2, 3, 4, 5, 6, 7, 8, 9]\n",
      "\n",
      "Now the same for the .shuffle()\n",
      "None\n",
      "[3, 2, 7, 8, 6, 1, 9, 5, 4]\n"
     ]
    }
   ],
   "source": [
    "x = [1, 2, 3, 4, 5, 6, 7, 8, 9] #create list that is easy to recognize for demonstration purposes\n",
    "print(np.random.permutation(x)) #print result of permutation\n",
    "#requested to have the above array x permuted randomly\n",
    "print(x) #print the list again to demonstrate it has not changed\n",
    "\n",
    "print() #a bit of formatting\n",
    "print(\"Now the same for the .shuffle()\")\n",
    "print(np.random.shuffle(x)) #Dissimilar to .permutation, shuffle will not print out x\n",
    "print(x) #print the list again to show that it has permanently changed now"
   ]
  },
  {
   "cell_type": "markdown",
   "metadata": {},
   "source": [
    "### References"
   ]
  },
  {
   "cell_type": "markdown",
   "metadata": {},
   "source": [
    "[1] http://mathworld.wolfram.com/Half-ClosedInterval.html  \n",
    "[2] https://stackoverflow.com/questions/40689152/what-does-replacement-mean-in-numpy-random-choice"
   ]
  },
  {
   "cell_type": "markdown",
   "metadata": {},
   "source": [
    "## 3. Use and purpose of “Distributions” functions"
   ]
  },
  {
   "cell_type": "markdown",
   "metadata": {},
   "source": [
    "In Statistics, distributions are used to describe the probability of a certain outcome. As seen in the previous section, numpy is very efficient at generating pseudorandom data. I have touched on the uniform and normal distribution for two of the above examples and have shown histograms to illustrate what this means for the pseudorandom numbers that are generated. In this chapter, I am looking to give more insights into distributions and their real-life examples by presenting some of the inbuilt distributions from the numpy.random package.\n",
    "\n",
    "Why can it be useful to draw samples from a particular distribution? To stay with the above already introduced examples, say you are writing a program that includes dice throws. In a fair game, you will want the probability for each number on the die to be the same - this constitutes a uniform distribution. On the other hand, you might want to simulate the results of an exam. From common knowledge, you will not expect an even distribution between all the grades, rather you would assume that the very good and very bad marks will be rare, whereas the majority of the class will fall around the middle-of-the-road marks. This would constitute a normal distribution.\n",
    "\n",
    "Graphs are particularly useful when trying to gain insights into distributins, which is why I will show plots to all the numpy.random functions presented in this chapter. To give you an idea what the graphs of distributions look like, the following picture from the [Cloudera Engineering Blog](http://blog.cloudera.com/blog/2015/12/common-probability-distributions-the-data-scientists-crib-sheet/) gives a good overview:\n",
    "\n",
    "<img src=\"http://blog.cloudera.com/wp-content/uploads/2015/12/distribution.png\" width=\"700\"/>\n",
    "\n",
    "A full list of the available distributions can be found in the official documentation of [numpy.random](https://docs.scipy.org/doc/numpy-1.14.1/reference/routines.random.html)."
   ]
  },
  {
   "cell_type": "markdown",
   "metadata": {},
   "source": [
    "### 3.1 Uniform distribution"
   ]
  },
  {
   "cell_type": "markdown",
   "metadata": {},
   "source": [
    "In chapter 2 we have already looked at the `.rand()` function of the numpy sampling which draws from a uniform distribution. The distributions in the numpy.random package offer another way to draw pseudorandom samples from a distribution, which is `numpy.random.uniform([low, high, size])`. You can input the low value, the highest value and of course the sample size."
   ]
  },
  {
   "cell_type": "markdown",
   "metadata": {},
   "source": [
    "In a uniform distribution, all outcomes are equally likely, which is illustrated by the below histogram. Please note that we will not receive a perfect symmetry by random sampling, but it clearly shows that the values follow a uniform distribution pattern."
   ]
  },
  {
   "cell_type": "code",
   "execution_count": 45,
   "metadata": {},
   "outputs": [
    {
     "data": {
      "image/png": "[encoded data removed]",
      "text/plain": [
       "<Figure size 432x288 with 1 Axes>"
      ]
     },
     "metadata": {
      "needs_background": "light"
     },
     "output_type": "display_data"
    }
   ],
   "source": [
    "uniform = np.random.uniform(1,10, 10000) #assign to variable\n",
    "plt.hist(uniform) # histogram to illustrate probability\n",
    "plt.title(\"uniform distribution\")\n",
    "plt.show()"
   ]
  },
  {
   "cell_type": "markdown",
   "metadata": {},
   "source": [
    "### 3.2 Normal Distribution"
   ]
  },
  {
   "cell_type": "markdown",
   "metadata": {},
   "source": [
    "The normal distributions, also known as bell curve or Gaussian distribution, is what is referred to as a \"continuous\" distribution. This means, that between all values, there could theoretically be another value. Many natural processes or phenomena can be described with a normal distribution, such as the height of adult males or females or blood pressure values."
   ]
  },
  {
   "cell_type": "markdown",
   "metadata": {},
   "source": [
    "As I will illustrate, in the normal distribution most values are close to the mean of the distribution, which also shapes the characteristic bell curve."
   ]
  },
  {
   "cell_type": "markdown",
   "metadata": {},
   "source": [
    "`normal([loc, scale, size])` - loc refers to the mean of the distribution, scale to the standard deviation, which will determine the width of the distribution and size to the size of the array"
   ]
  },
  {
   "cell_type": "code",
   "execution_count": 44,
   "metadata": {},
   "outputs": [
    {
     "data": {
      "image/png": "[encoded data removed]",
      "text/plain": [
       "<Figure size 432x288 with 1 Axes>"
      ]
     },
     "metadata": {
      "needs_background": "light"
     },
     "output_type": "display_data"
    },
    {
     "name": "stdout",
     "output_type": "stream",
     "text": [
      "The mean is 0.0029797581744408124\n",
      "The standard deviation is 0.9963972555095075\n"
     ]
    }
   ],
   "source": [
    "a, b = 0, 1\n",
    "s = np.random.normal(a, b, 100000)\n",
    "\n",
    "plt.hist(s, bins = 20)\n",
    "plt.title(\"normal distribution\")\n",
    "plt.show()\n",
    "\n",
    "#to illustrate, I will print out the meand and standard deviation to proof that the .normal function has in fact created a distribution around the input values a and b\n",
    "\n",
    "print(\"The mean is\", np.mean(s))\n",
    "print(\"The standard deviation is\", np.std(s))"
   ]
  },
  {
   "cell_type": "markdown",
   "metadata": {},
   "source": [
    "### 3.3 Binomial distribution"
   ]
  },
  {
   "cell_type": "markdown",
   "metadata": {},
   "source": [
    "The binomial distribution produces a bell-shape like the normal distribution if the sample size is large enough. However, they are not the same. \n",
    "\n",
    "I have outlined above, that a normal distribution is continous, which means, that in theory at least, there could be another data point between any two values. F.ex. when looking at the height of adult males. A binomial distribution is discrete, and looks at success or failure. There is no in-between outcome. An example is looking at the result of coin tosses. [1]"
   ]
  },
  {
   "cell_type": "markdown",
   "metadata": {},
   "source": [
    "`binomial(n, p[, size])`\tDraw samples from a binomial distribution., input the number of trials for n, the probability of success for each trial in p"
   ]
  },
  {
   "cell_type": "markdown",
   "metadata": {},
   "source": [
    "Using the numpy.random.binomial generator, I am simulating, for a thousand times, the distribution of tossing a coin for 10 times and the likelyhood of tossing a Head. This experiment can only have one of two outcomes: Head or Tail, success or failure. Assuming a fair coin is used, the probability of success should be 50%, or 0.5.:"
   ]
  },
  {
   "cell_type": "code",
   "execution_count": 46,
   "metadata": {},
   "outputs": [
    {
     "data": {
      "image/png": "[encoded data removed]",
      "text/plain": [
       "<Figure size 432x288 with 1 Axes>"
      ]
     },
     "metadata": {
      "needs_background": "light"
     },
     "output_type": "display_data"
    }
   ],
   "source": [
    "n, p = 10, .5  # number of trials, probability of each trial\n",
    "a = np.random.binomial(n, p, 1000) #flipping coin 10 times, for a thousand times, storing results in a\n",
    "\n",
    "plt.hist(a, bins = 10)\n",
    "plt.title(\"binomial distribution\")\n",
    "plt.show()"
   ]
  },
  {
   "cell_type": "markdown",
   "metadata": {},
   "source": [
    "As can be seen, this experiement creates a bell-curve. The plot shows that the experiment, on average, returned around 5 heads in 10 throws. The probability taperes off towards the edges.\n"
   ]
  },
  {
   "cell_type": "markdown",
   "metadata": {},
   "source": [
    "### References"
   ]
  },
  {
   "cell_type": "markdown",
   "metadata": {},
   "source": [
    "[1] http://staweb.sta.cathedral.org/departments/math/mhansen/public_html/23stat/handouts/normbino.htm"
   ]
  },
  {
   "cell_type": "markdown",
   "metadata": {},
   "source": [
    "### 3.4 Poisson Distribution"
   ]
  },
  {
   "cell_type": "markdown",
   "metadata": {},
   "source": [
    "\"Poisson Distribution is applicable in situations where events occur at random points of time and space wherein our interest lies only in the number of occurrences of the event.\" [1]\n",
    "\n",
    "1. Any successful event should not influence the outcome of another successful event.\n",
    "2. The probability of success over a short interval must equal the probability of success over a longer interval.\n",
    "3. The probability of success in an interval approaches zero as the interval becomes smaller.\"\n",
    "\n",
    "Examples for this could be the number of calls in a callcenter within an hour, the number of babies born or customers to a restaurant."
   ]
  },
  {
   "cell_type": "code",
   "execution_count": 47,
   "metadata": {},
   "outputs": [
    {
     "data": {
      "image/png": "[encoded data removed]",
      "text/plain": [
       "<Figure size 432x288 with 1 Axes>"
      ]
     },
     "metadata": {
      "needs_background": "light"
     },
     "output_type": "display_data"
    },
    {
     "name": "stdout",
     "output_type": "stream",
     "text": [
      "the mean of this distribution is: 14.56\n",
      "the variance of this distribution is: 14.766399999999999\n"
     ]
    }
   ],
   "source": [
    "s = np.random.poisson(15, 100)\n",
    "plt.hist(s, 14)\n",
    "plt.title(\"Poisson distribution\")\n",
    "plt.show()\n",
    "\n",
    "print(\"the mean of this distribution is:\", np.mean(s))\n",
    "print(\"the variance of this distribution is:\", np.var(s))"
   ]
  },
  {
   "cell_type": "markdown",
   "metadata": {},
   "source": [
    "The function needs the following arguments: `poisson([lam, size])`. lam stands for lambda. The lambbda is the average number of events in an interval [2] while size specifies how many samples should be drawn. With Lambda being the average number of events or rate, it is also equal to the mean and variance of the distribution [3]\n",
    "\n",
    "It is worth noting the effect a larger sample size has on the random distribution compared to the one above:"
   ]
  },
  {
   "cell_type": "code",
   "execution_count": 48,
   "metadata": {},
   "outputs": [
    {
     "data": {
      "image/png": "[encoded data removed]",
      "text/plain": [
       "<Figure size 432x288 with 1 Axes>"
      ]
     },
     "metadata": {
      "needs_background": "light"
     },
     "output_type": "display_data"
    },
    {
     "name": "stdout",
     "output_type": "stream",
     "text": [
      "the mean of this distribution is: 14.9912\n",
      "the variance of this distribution is: 14.990922560000001\n"
     ]
    }
   ],
   "source": [
    "s = np.random.poisson(15, 10000)\n",
    "plt.hist(s, 14)\n",
    "plt.title(\"Poisson distribution, increased sample size\")\n",
    "plt.show()\n",
    "\n",
    "print(\"the mean of this distribution is:\", np.mean(s))\n",
    "print(\"the variance of this distribution is:\", np.var(s))"
   ]
  },
  {
   "cell_type": "markdown",
   "metadata": {},
   "source": [
    "### References"
   ]
  },
  {
   "cell_type": "markdown",
   "metadata": {},
   "source": [
    "[1] https://www.analyticsvidhya.com/blog/2017/09/6-probability-distributions-data-science/  \n",
    "[2] https://en.wikipedia.org/wiki/Poisson_distribution \n",
    "[3] https://support.minitab.com/en-us/minitab-express/1/help-and-how-to/basic-statistics/probability-distributions/supporting-topics/distributions/poisson-distribution/"
   ]
  },
  {
   "cell_type": "markdown",
   "metadata": {},
   "source": [
    "### 3.5 Exponential distribution"
   ]
  },
  {
   "cell_type": "markdown",
   "metadata": {},
   "source": [
    "While the Poisson distribution is applicable for random events within a certain interval of time, such as babies born within a day, an exponential distribution is applicable for the time between 2 events. The randomly generated data around this distribution can be useful to simulate failure rates."
   ]
  },
  {
   "cell_type": "code",
   "execution_count": 49,
   "metadata": {},
   "outputs": [
    {
     "name": "stdout",
     "output_type": "stream",
     "text": [
      "The mean of these samples is 1718.0844330425775\n"
     ]
    },
    {
     "data": {
      "image/png": "[encoded data removed]",
      "text/plain": [
       "<Figure size 432x288 with 1 Axes>"
      ]
     },
     "metadata": {
      "needs_background": "light"
     },
     "output_type": "display_data"
    }
   ],
   "source": [
    "s = np.random.exponential(2000, 200)\n",
    "plt.hist(s)\n",
    "plt.title(\"exponential distribution\")\n",
    "print(\"The mean of these samples is\", np.mean(s))\n",
    "plt.show()"
   ]
  },
  {
   "cell_type": "markdown",
   "metadata": {},
   "source": [
    "### 3.6 Triangular Distribution"
   ]
  },
  {
   "cell_type": "markdown",
   "metadata": {},
   "source": [
    "`triangular(left, mode, right[, size])` - Draw samples from the triangular distribution over the interval [left, right]."
   ]
  },
  {
   "cell_type": "markdown",
   "metadata": {},
   "source": [
    "The triangular distribution takes 3 arguments: the lowest limit to 'left',the highest limit value to the 'right'and the peak value at 'mode'. As can be seen below, by generating 1000000 random samples from a triangle distribution in numpy, the distribution forms a distinctive triangle shape. "
   ]
  },
  {
   "cell_type": "code",
   "execution_count": 50,
   "metadata": {},
   "outputs": [
    {
     "data": {
      "image/png": "[encoded data removed]",
      "text/plain": [
       "<Figure size 432x288 with 1 Axes>"
      ]
     },
     "metadata": {
      "needs_background": "light"
     },
     "output_type": "display_data"
    },
    {
     "name": "stderr",
     "output_type": "stream",
     "text": [
      "C:\\Users\\sarah\\Anaconda3\\lib\\site-packages\\scipy\\stats\\stats.py:1713: FutureWarning: Using a non-tuple sequence for multidimensional indexing is deprecated; use `arr[tuple(seq)]` instead of `arr[seq]`. In the future this will be interpreted as an array index, `arr[np.array(seq)]`, which will result either in an error or a different result.\n",
      "  return np.add.reduce(sorted[indexer] * weights, axis=axis) / sumval\n"
     ]
    },
    {
     "data": {
      "image/png": "[encoded data removed]",
      "text/plain": [
       "<Figure size 432x288 with 1 Axes>"
      ]
     },
     "metadata": {
      "needs_background": "light"
     },
     "output_type": "display_data"
    }
   ],
   "source": [
    "s = np.random.triangular(1,70,100,1000000)\n",
    "plt.hist(s)\n",
    "plt.title(\"triangular distribution\")\n",
    "plt.show()\n",
    "\n",
    "n = [np.random.triangular(1,70,100) for i in range(1000000)]\n",
    "sb.distplot(n)\n",
    "plt.show()"
   ]
  },
  {
   "cell_type": "markdown",
   "metadata": {},
   "source": [
    "A real-life example of a triangular distribution is the throw of two dice. The below simulates 10000 throws of two dice and plots the list:"
   ]
  },
  {
   "cell_type": "code",
   "execution_count": 51,
   "metadata": {},
   "outputs": [
    {
     "data": {
      "image/png": "[encoded data removed]",
      "text/plain": [
       "<Figure size 432x288 with 1 Axes>"
      ]
     },
     "metadata": {
      "needs_background": "light"
     },
     "output_type": "display_data"
    }
   ],
   "source": [
    "n = 10000 #throw the dice n-times\n",
    "a = [] #define a as a list\n",
    "\n",
    "for i in range(n):\n",
    "    x=np.random.randint(1,7) #use numpy.random to simulate the throw of a dice\n",
    "    y=np.random.randint(1,7) #use numpy.random to simulate the throw of a second dice\n",
    "    a.append(x+y) #collect all results in a\n",
    "\n",
    "\n",
    "plt.hist(a, bins = 11)\n",
    "plt.title(\"Histogram of randomly generated results of throwing two fair dice 10000 times\")\n",
    "plt.show()"
   ]
  },
  {
   "cell_type": "markdown",
   "metadata": {},
   "source": [
    "## 4. Use of seeds in generating pseudorandom numbers."
   ]
  },
  {
   "cell_type": "markdown",
   "metadata": {},
   "source": [
    "We have seen in numerous examples, how pseudorandom number generators (PRNG) can be useful for simulations. Not only does the numpy.random package offer the functionalities to create pseudorandom values or permutate existing values in a pseudorandom manner but also offers functions by which to pull pseudorandom values according to a particular distribution."
   ]
  },
  {
   "cell_type": "markdown",
   "metadata": {},
   "source": [
    "The use of a seed can be useful if one if looking to replicate results, for example to test codes against each other. As was outlined above, a computer cannot generate random numbers. It follows an algorithm that produces what will appear to be random numbers. When an internal random number generator is initialised, the so-called random state is initialized. \n",
    "A this point, depending on the application, a certain starting value will be used from which to start the random number generation, this might for example be derived from the time the random state was invoked. For example, numpy uses the [Mersenne Twister](https://en.wikipedia.org/wiki/Mersenne_Twister) to generate pseudorandom numbers."
   ]
  },
  {
   "cell_type": "code",
   "execution_count": 1,
   "metadata": {},
   "outputs": [
    {
     "name": "stdout",
     "output_type": "stream",
     "text": [
      "enter an integer10\n"
     ]
    }
   ],
   "source": [
    "random=input(\"enter an integer\")"
   ]
  },
  {
   "cell_type": "code",
   "execution_count": 3,
   "metadata": {},
   "outputs": [
    {
     "name": "stdout",
     "output_type": "stream",
     "text": [
      "Your pseudorandom result is: 4553\n"
     ]
    }
   ],
   "source": [
    "pseudo=int(random) + 6 * 758 - 5\n",
    "print(\"Your pseudorandom result is:\", pseudo)"
   ]
  },
  {
   "cell_type": "markdown",
   "metadata": {},
   "source": [
    "This, admittedly very simplified, example shows not only how the initialization of the random state produces values but also let's one draw the conclusion that with the same input, the outputs would be same. By seeding the generator, one can ensure consistent pseudorandom numbers."
   ]
  },
  {
   "cell_type": "code",
   "execution_count": 243,
   "metadata": {},
   "outputs": [
    {
     "name": "stdout",
     "output_type": "stream",
     "text": [
      "[4 1 7 6 7 5 7 7 3 3]\n"
     ]
    }
   ],
   "source": [
    "#run this command several times to see that the numbers change everytime\n",
    "print(np.random.randint(1,10,10))"
   ]
  },
  {
   "cell_type": "code",
   "execution_count": 30,
   "metadata": {},
   "outputs": [
    {
     "name": "stdout",
     "output_type": "stream",
     "text": [
      "[6 9 6 1 1 2 8 7 3 5]\n",
      "[6 3 5 3 5 8 8 2 8 1]\n"
     ]
    }
   ],
   "source": [
    "#seeding the generator, run this command several times to see that the numbers won't change\n",
    "np.random.seed(1)\n",
    "print(np.random.randint(1,10,10))\n",
    "print(np.random.randint(1,10,10))"
   ]
  },
  {
   "cell_type": "code",
   "execution_count": 31,
   "metadata": {},
   "outputs": [
    {
     "name": "stdout",
     "output_type": "stream",
     "text": [
      "[6 9 6 1 1 2 8 7 3 5 6 3 5 3 5 8 8 2 8 1]\n"
     ]
    }
   ],
   "source": [
    "#by using the same seed, I can ensure the same numbers are returned\n",
    "np.random.seed(1)\n",
    "print(np.random.randint(1,10,20))"
   ]
  },
  {
   "cell_type": "markdown",
   "metadata": {},
   "source": [
    "Be wary to not use a seed or the numpy.random package to generate passwords or security keys as they can be reverse engineered. Python offers a different package called [secrets](https://docs.python.org/3/library/secrets.html) which is considered cryptographically strong as it uses sources from the operating system which makes it slower, but less predictable. [1]"
   ]
  },
  {
   "cell_type": "markdown",
   "metadata": {},
   "source": [
    "### References"
   ]
  },
  {
   "cell_type": "markdown",
   "metadata": {},
   "source": [
    "[1] Cracking Codes with Python: An Introduction to Building and Breaking Ciphers, Al Sweigart"
   ]
  },
  {
   "cell_type": "markdown",
   "metadata": {},
   "source": []
  }
 ],
 "metadata": {
  "kernelspec": {
   "display_name": "Python 3",
   "language": "python",
   "name": "python3"
  },
  "language_info": {
   "codemirror_mode": {
    "name": "ipython",
    "version": 3
   },
   "file_extension": ".py",
   "mimetype": "text/x-python",
   "name": "python",
   "nbconvert_exporter": "python",
   "pygments_lexer": "ipython3",
   "version": "3.7.0"
  }
 },
 "nbformat": 4,
 "nbformat_minor": 2
}
