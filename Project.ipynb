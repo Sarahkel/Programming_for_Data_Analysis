{
 "cells": [
  {
   "cell_type": "markdown",
   "metadata": {},
   "source": [
    "\n",
    "# Numpy.random"
   ]
  },
  {
   "cell_type": "markdown",
   "metadata": {},
   "source": [
    "## Explain the overall purpose of the package."
   ]
  },
  {
   "cell_type": "markdown",
   "metadata": {},
   "source": [
    "**NumPy** is a core package of the Python-based ecosystem of open-source software **SciPy**. NumPy is a library that enables users to work efficiently with arrays by providing handy features to define arrays and in-built fast math functions that operate on the array. *[1]* In this notebook, we will have a closer look at the **numpy.random** package of NumPy, which allows users to generate pseudorandom numbers.\n",
    "\n",
    "Random numbers play an important role in computer science. They are needed for simulations and useful for testing applications. Imagine wanting to develop a game - how is the program going to determine the roll of the dice or how to shuffle cards? \n",
    "\n",
    "It has to be kept in mind that despite its name, numpy.random cannot generate truly random numbers, but pseudorandom numbers. Ronald T. Kneusel reminds the reader that John von Neumann had already established that \"there is no such thing as a random number - there are only methods to produce random numbers\" *[2, p.12]* and offers a definition: \n",
    "\n",
    "> A pseudorandom sequence is a deterministically generated sequence of numbers that is indistinguishable from a true random sequence of numbers *[2, p.11]*\n",
    "\n",
    "The official documentation [official documentation of numpy.random](https://docs.scipy.org/doc/numpy-1.14.0/reference/routines.random.html) outlines the different commands, what they do and how to use them. For the purpose of this assignment, I will provide illustrations of these commands."
   ]
  },
  {
   "cell_type": "markdown",
   "metadata": {},
   "source": [
    "Resources:\n",
    "\n",
    "\n",
    "    [1]https://wiki.python.org/moin/NumPy\n",
    "    [2] Random Numbers and Computers, von Ronald T. Kneusel, Springer, 2018"
   ]
  },
  {
   "cell_type": "markdown",
   "metadata": {},
   "source": [
    "## 2. Explain the use of the “Simple random data” and “Permutations” functions."
   ]
  },
  {
   "cell_type": "markdown",
   "metadata": {},
   "source": [
    "As can be seen in the official documentation, numpy.random offers several ways to generate \"simple random data\" as well as \"permutatiions\". \n",
    "\"Simple random data\" allows the user to generate random values, samples, floats etc. whereas \"permutations\" offers ways in which to randomly change the sequence."
   ]
  },
  {
   "cell_type": "markdown",
   "metadata": {},
   "source": [
    "These functions work as follows"
   ]
  },
  {
   "cell_type": "code",
   "execution_count": 38,
   "metadata": {},
   "outputs": [
    {
     "name": "stdout",
     "output_type": "stream",
     "text": [
      "[7 4 2 4 3 4 1 9 5]\n"
     ]
    }
   ],
   "source": [
    "import numpy as np\n",
    "#imported numpy\n",
    "x = np.random.randint(1,10,9)\n",
    "#requested numpy.random to return an array of 9 random integers from 1 (inclusive) to 10 (exclusive) and store it in x\n",
    "print(x)\n",
    "#show the created array"
   ]
  },
  {
   "cell_type": "markdown",
   "metadata": {},
   "source": [
    "Above it can be seen that randint has returned an array of 8 randomly picked numbers as requested. \"Simple random data\" commands are useful to create data, where there is none. Next, let's have a look at an example of a permutation:"
   ]
  },
  {
   "cell_type": "code",
   "execution_count": 39,
   "metadata": {},
   "outputs": [
    {
     "data": {
      "text/plain": [
       "array([1, 5, 4, 4, 2, 7, 9, 3, 4])"
      ]
     },
     "execution_count": 39,
     "metadata": {},
     "output_type": "execute_result"
    }
   ],
   "source": [
    "import numpy as np\n",
    "#imported numpy\n",
    "np.random.permutation(x)\n",
    "#requested to have the above array x permuted randomly"
   ]
  },
  {
   "cell_type": "markdown",
   "metadata": {},
   "source": [
    "It can be seen that numpy.random has picked the array defined above and permuted the order."
   ]
  },
  {
   "cell_type": "markdown",
   "metadata": {},
   "source": [
    "## 3. Explain the use and purpose of at least five “Distributions” functions."
   ]
  },
  {
   "cell_type": "markdown",
   "metadata": {},
   "source": [
    "In Statistics, distributions are used to describe the probability of a certain outcome. As seen in the previous section, numpy is very efficient at generating pseudorandom data when asked. What is even more handy, is that it allows you to generate data randomly with regards to a specified distribution. \n",
    "\n",
    "Say you are writing a program that includes dice throws. In a fair game, you will want the probability for each number on the die to be the same - this constitutes a uniform distribution. On the other hand, you might want to simulate the results of an exam. From common knowledge, you will not expect an even distribution between all the grades, rather you would assume that the very good and very bad marks will be rare, whereas the majority of the class will fall around the middle-of-the-road marks. This would constitute a normal distribution.\n",
    "\n",
    "The numpy.random package allows you to create pseudorandom samples by specifying the distribution type. A full list of the distributions can be found in the official documentation of numpy.random.\n",
    "\n",
    "In the following I will illustrate how to use the distributions in numpy with illustrations:"
   ]
  },
  {
   "cell_type": "markdown",
   "metadata": {},
   "source": [
    "## Normal Distribution"
   ]
  },
  {
   "cell_type": "code",
   "execution_count": 8,
   "metadata": {},
   "outputs": [
    {
     "data": {
      "image/png": "[encoded data removed]",
      "text/plain": [
       "<Figure size 432x288 with 1 Axes>"
      ]
     },
     "metadata": {
      "needs_background": "light"
     },
     "output_type": "display_data"
    }
   ],
   "source": [
    "import numpy as np\n",
    "import matplotlib.pyplot as plt\n",
    "\n",
    "a, b = 0, 1\n",
    "s = np.random.normal(a, b, 1000)\n",
    "\n",
    "plt.hist(s, 20)\n",
    "plt.show()\n"
   ]
  },
  {
   "cell_type": "markdown",
   "metadata": {},
   "source": [
    "The plot above illustrates a normal distribution."
   ]
  },
  {
   "cell_type": "markdown",
   "metadata": {},
   "source": [
    "## Poisson Distribution"
   ]
  },
  {
   "cell_type": "code",
   "execution_count": 14,
   "metadata": {},
   "outputs": [
    {
     "data": {
      "image/png": "[encoded data removed]",
      "text/plain": [
       "<Figure size 432x288 with 1 Axes>"
      ]
     },
     "metadata": {
      "needs_background": "light"
     },
     "output_type": "display_data"
    }
   ],
   "source": [
    "import numpy as np\n",
    "import matplotlib.pyplot as plt\n",
    "\n",
    "s = np.random.poisson(5, 10000)\n",
    "plt.hist(s, 14)\n",
    "plt.show()"
   ]
  },
  {
   "cell_type": "markdown",
   "metadata": {},
   "source": [
    "\"Poisson Distribution is applicable in situations where events occur at random points of time and space wherein our interest lies only in the number of occurrences of the event.\" [1]\n",
    "\n",
    "1. Any successful event should not influence the outcome of another successful event.\n",
    "2. The probability of success over a short interval must equal the probability of success over a longer interval.\n",
    "3. The probability of success in an interval approaches zero as the interval becomes smaller.\"\n",
    "\n",
    "Examples for this could be the number of calls in a callcenter within an hour, the number of babies born or customers to a restaurant."
   ]
  },
  {
   "cell_type": "markdown",
   "metadata": {},
   "source": [
    "[]1 https://www.analyticsvidhya.com/blog/2017/09/6-probability-distributions-data-science/"
   ]
  },
  {
   "cell_type": "markdown",
   "metadata": {},
   "source": [
    "### Exponential distribution"
   ]
  },
  {
   "cell_type": "markdown",
   "metadata": {},
   "source": [
    "While the Poisson distribution is applicable for random events within a certain interval of time, such as babies born within a day, an exponential distribution is applicable for the time between 2 events. The randomly generated data around this distribution distribution can be useful to simulate the failure rate of a piece of technology."
   ]
  },
  {
   "cell_type": "code",
   "execution_count": 28,
   "metadata": {},
   "outputs": [
    {
     "data": {
      "image/png": "[encoded data removed]",
      "text/plain": [
       "<Figure size 432x288 with 1 Axes>"
      ]
     },
     "metadata": {
      "needs_background": "light"
     },
     "output_type": "display_data"
    }
   ],
   "source": [
    "import numpy as np\n",
    "import matplotlib.pyplot as plt\n",
    "\n",
    "s = np.random.exponential(2000, 200)\n",
    "y = np.random.exponential(200)\n",
    "plt.hist(s)\n",
    "plt.title('Samples from an exponential distribution')\n",
    "plt.show()"
   ]
  },
  {
   "cell_type": "markdown",
   "metadata": {},
   "source": [
    "Let's assume 24 babies are born in a hospital within the hour. Knowing that 24 babies are born within a day, your gut feeling might tell you it is unlikely that another baby is born within the minute and you would be throughly surprised if no other baby was born within the next four hours. This distribution of probabilities can be described using an exponential distribution. If you are looking to simulate an event in a game, such as the birth of a new tribe member, you might turn to the numpy.random.exponential function to generate the time of the happening. "
   ]
  },
  {
   "cell_type": "code",
   "execution_count": 54,
   "metadata": {},
   "outputs": [
    {
     "name": "stdout",
     "output_type": "stream",
     "text": [
      "our random sample time for the baby is: 122.20937466135194\n"
     ]
    },
    {
     "data": {
      "image/png": "[encoded data removed]",
      "text/plain": [
       "<Figure size 432x288 with 1 Axes>"
      ]
     },
     "metadata": {
      "needs_background": "light"
     },
     "output_type": "display_data"
    },
    {
     "name": "stdout",
     "output_type": "stream",
     "text": [
      "the mean of these 200 samples is: 59.46225149126842\n"
     ]
    }
   ],
   "source": [
    "import random\n",
    "import numpy as np\n",
    "import matplotlib.pyplot as plt\n",
    "\n",
    "baby_born = np.random.exponential(60) # for minutes\n",
    "print(\"our random sample time for the baby is:\", baby_born)\n",
    "\n",
    "b = [np.random.exponential(60) for i in range(200)]\n",
    "plt.hist(b)\n",
    "plt.show()\n",
    "mean = np.mean(b)\n",
    "# to prove the function is \n",
    "print(\"the mean of these 200 samples is:\", mean)"
   ]
  },
  {
   "cell_type": "markdown",
   "metadata": {},
   "source": []
  }
 ],
 "metadata": {
  "kernelspec": {
   "display_name": "Python 3",
   "language": "python",
   "name": "python3"
  },
  "language_info": {
   "codemirror_mode": {
    "name": "ipython",
    "version": 3
   },
   "file_extension": ".py",
   "mimetype": "text/x-python",
   "name": "python",
   "nbconvert_exporter": "python",
   "pygments_lexer": "ipython3",
   "version": "3.7.0"
  }
 },
 "nbformat": 4,
 "nbformat_minor": 2
}
